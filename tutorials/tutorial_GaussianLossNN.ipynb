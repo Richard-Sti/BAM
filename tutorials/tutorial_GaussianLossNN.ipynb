{
 "cells": [
  {
   "cell_type": "code",
   "execution_count": 1,
   "metadata": {},
   "outputs": [],
   "source": [
    "import numpy as np\n",
    "import matplotlib.pyplot as plt\n",
    "\n",
    "import tensorflow as tf\n",
    "import tensorflow_addons as tfa\n",
    "from sklearn.pipeline import Pipeline\n",
    "from sklearn.decomposition import PCA\n",
    "\n",
    "from empiricalgalo import utils, models\n",
    "\n",
    "import joblib\n",
    "\n",
    "%load_ext autoreload\n",
    "%autoreload 2\n",
    "\n",
    "try:\n",
    "    # Disable all GPUS\n",
    "    tf.config.set_visible_devices([], 'GPU')\n",
    "    visible_devices = tf.config.get_visible_devices()\n",
    "    for device in visible_devices:\n",
    "        assert device.device_type != 'GPU'\n",
    "except:\n",
    "    # Invalid device or cannot modify virtual devices once initialized.\n",
    "    pass"
   ]
  },
  {
   "cell_type": "code",
   "execution_count": 41,
   "metadata": {},
   "outputs": [],
   "source": [
    "data = np.load(\"../data/HAGNmatch.npy\")\n",
    "\n",
    "m = (data[\"H_level\"] == 1) & (data[\"H_mhalo\"] > 1e10) & (data[\"G_mgal\"] > 1e9)\n",
    "data = data[m]\n",
    "\n",
    "\n",
    "features = [\"H_mhalo\", \"H_concentration\", \"H_spin\"]\n",
    "log_features = [\"H_mhalo\", \"H_concentration\", \"H_spin\"]\n",
    "\n",
    "target = \"G_mgal\""
   ]
  },
  {
   "cell_type": "code",
   "execution_count": 42,
   "metadata": {},
   "outputs": [],
   "source": [
    "Xtrain, Xtest, ytrain, ytest = utils.stratify_split(data, features, target, target, True)"
   ]
  },
  {
   "cell_type": "code",
   "execution_count": 43,
   "metadata": {},
   "outputs": [],
   "source": [
    "from sklearn.preprocessing import StandardScaler"
   ]
  },
  {
   "cell_type": "code",
   "execution_count": 44,
   "metadata": {},
   "outputs": [],
   "source": [
    "features_pipe = Pipeline([('selector', utils.DataFrameSelector(features, log_features)),\n",
    "                          ('PCA', PCA(whiten=True, n_components=len(features)))])\n",
    "# features_pipe = Pipeline([('selector', utils.DataFrameSelector(features, log_features)),\n",
    "                        #   ('scaler', StandardScaler())])\n",
    "target_pipe = Pipeline([('selector', utils.DataFrameSelector(target, target))])"
   ]
  },
  {
   "cell_type": "code",
   "execution_count": 45,
   "metadata": {},
   "outputs": [],
   "source": [
    "Xtrain, Xtest = utils.apply_preprocess(Xtrain, Xtest, features_pipe)\n",
    "ytrain, ytest = utils.apply_preprocess(ytrain, ytest, target_pipe)"
   ]
  },
  {
   "cell_type": "code",
   "execution_count": 46,
   "metadata": {},
   "outputs": [],
   "source": [
    "checkpoint_dir = \"./checkpoints\"\n",
    "batch_size = 500\n",
    "\n",
    "\n",
    "clr = tfa.optimizers.CyclicalLearningRate(initial_learning_rate=0.001,\n",
    "    maximal_learning_rate=0.01,\n",
    "    scale_fn=lambda x: 1/(2.**(x-1)),\n",
    "    step_size=2 * len(ytrain) // batch_size)\n",
    "optimizer = tf.optimizers.Adamax(learning_rate=clr)\n",
    "\n",
    "Nensemble = 24"
   ]
  },
  {
   "cell_type": "code",
   "execution_count": 47,
   "metadata": {},
   "outputs": [],
   "source": [
    "cdirs = models.make_checkpoint_dirs(checkpoint_dir, Nensemble)\n",
    "seeds = models.get_random_seeds(Nensemble, 42)"
   ]
  },
  {
   "cell_type": "code",
   "execution_count": 50,
   "metadata": {},
   "outputs": [
    {
     "name": "stderr",
     "output_type": "stream",
     "text": [
      "2022-05-08 23:45:34.198960: W tensorflow/python/util/util.cc:368] Sets are not currently considered sequences, but this may change in the future, so consider avoiding using them.\n",
      "2022-05-08 23:45:34.233253: W tensorflow/core/platform/profile_utils/cpu_utils.cc:128] Failed to get CPU frequency: 0 Hz\n"
     ]
    },
    {
     "name": "stdout",
     "output_type": "stream",
     "text": [
      "WARNING:tensorflow:AutoGraph could not transform <bound method Socket.send of <zmq.Socket(zmq.PUSH) at 0x107cb9a00>> and will run it as-is.\n",
      "Please report this to the TensorFlow team. When filing the bug, set the verbosity to 10 (on Linux, `export AUTOGRAPH_VERBOSITY=10`) and attach the full output.\n",
      "Cause: module, class, method, function, traceback, frame, or code object was expected, got cython_function_or_method\n",
      "To silence this warning, decorate the function with @tf.autograph.experimental.do_not_convert\n"
     ]
    },
    {
     "name": "stderr",
     "output_type": "stream",
     "text": [
      "WARNING:absl:Cannot perturb features dict_keys(['label'])\n",
      "WARNING:tensorflow:AutoGraph could not transform <bound method Socket.send of <zmq.Socket(zmq.PUSH) at 0x107cb9a00>> and will run it as-is.\n",
      "Please report this to the TensorFlow team. When filing the bug, set the verbosity to 10 (on Linux, `export AUTOGRAPH_VERBOSITY=10`) and attach the full output.\n",
      "Cause: module, class, method, function, traceback, frame, or code object was expected, got cython_function_or_method\n",
      "To silence this warning, decorate the function with @tf.autograph.experimental.do_not_convert\n"
     ]
    },
    {
     "name": "stdout",
     "output_type": "stream",
     "text": [
      "WARNING: AutoGraph could not transform <bound method Socket.send of <zmq.Socket(zmq.PUSH) at 0x107cb9a00>> and will run it as-is.\n",
      "Please report this to the TensorFlow team. When filing the bug, set the verbosity to 10 (on Linux, `export AUTOGRAPH_VERBOSITY=10`) and attach the full output.\n",
      "Cause: module, class, method, function, traceback, frame, or code object was expected, got cython_function_or_method\n",
      "To silence this warning, decorate the function with @tf.autograph.experimental.do_not_convert\n"
     ]
    }
   ],
   "source": [
    "for i in range(Nensemble):\n",
    "    models.GaussianLossNN.fit_directly(\n",
    "        Xtrain, ytrain, batch_size, cdirs[i], seeds[i],\n",
    "        optimizer=optimizer)"
   ]
  },
  {
   "cell_type": "code",
   "execution_count": 167,
   "metadata": {},
   "outputs": [
    {
     "name": "stdout",
     "output_type": "stream",
     "text": [
      "Found 24 models in `./checkpoints`.\n"
     ]
    }
   ],
   "source": [
    "ensemble = models.SummaryEnsembleGaussianLossNN(checkpoint_dir, optimizer)"
   ]
  },
  {
   "cell_type": "code",
   "execution_count": 197,
   "metadata": {},
   "outputs": [
    {
     "name": "stdout",
     "output_type": "stream",
     "text": [
      "[0.92644663 0.92807903 0.92798339 0.92809053 0.92606248 0.92282857\n",
      " 0.92650674 0.9283144  0.92672166 0.92634143 0.92631222 0.92650875\n",
      " 0.92825865 0.92788496 0.92482884 0.9276316  0.92878477 0.92924463\n",
      " 0.92762479 0.92726159 0.92796813 0.92602481 0.92564252 0.92753774\n",
      " 0.8       ]\n",
      "len  25\n",
      "Lower 0.8772615940338544\n",
      "len  24\n",
      "Lower 0.8773996673734653\n",
      "1\n",
      "0.00014890440895998225\n",
      "0.9273996673734654 0.9273996673734654\n",
      "len  24\n",
      "Lower 0.8773996673734653\n",
      "2\n",
      "0.0\n",
      "0.9273996673734654 0.9273996673734654\n",
      "len  24\n",
      "Lower 0.8773996673734653\n",
      "3\n",
      "0.0\n",
      "0.9273996673734654 0.9273996673734654\n",
      "len  24\n",
      "Lower 0.8773996673734653\n",
      "4\n",
      "0.0\n",
      "0.9273996673734654 0.9273996673734654\n"
     ]
    }
   ],
   "source": [
    "ensemble.check_convergence(Xtest, ytest)"
   ]
  },
  {
   "cell_type": "code",
   "execution_count": 190,
   "metadata": {},
   "outputs": [],
   "source": [
    "grads = ensemble.predict_gradient_summary(Xtest, True)"
   ]
  },
  {
   "cell_type": "code",
   "execution_count": 148,
   "metadata": {},
   "outputs": [
    {
     "data": {
      "text/plain": [
       "(2, 2, 9847, 3)"
      ]
     },
     "execution_count": 148,
     "metadata": {},
     "output_type": "execute_result"
    }
   ],
   "source": [
    "grads.shape"
   ]
  },
  {
   "cell_type": "code",
   "execution_count": 166,
   "metadata": {},
   "outputs": [
    {
     "data": {
      "image/png": "[encoded data removed]",
      "text/plain": [
       "<Figure size 648x432 with 1 Axes>"
      ]
     },
     "metadata": {
      "needs_background": "light"
     },
     "output_type": "display_data"
    }
   ],
   "source": [
    "plt.figure(figsize=(9,6))\n",
    "i = 0\n",
    "plt.scatter(Xtest[:, i], grads[1, 0, :, i])\n",
    "plt.scatter(Xtest[:, i], grads[1, 1, :, i])\n",
    "plt.axhline(0, c='red')\n",
    "plt.show()"
   ]
  },
  {
   "cell_type": "code",
   "execution_count": 66,
   "metadata": {},
   "outputs": [],
   "source": [
    "R2s = ensemble.score_R2mean(Xtest, ytest)"
   ]
  },
  {
   "cell_type": "code",
   "execution_count": 67,
   "metadata": {},
   "outputs": [],
   "source": [
    "chi2s = ensemble.score_reduced_chi2(Xtest, ytest)"
   ]
  },
  {
   "cell_type": "code",
   "execution_count": 78,
   "metadata": {},
   "outputs": [],
   "source": [
    "pred = ensemble.predict_summary(Xtest, True, True)"
   ]
  },
  {
   "cell_type": "code",
   "execution_count": 82,
   "metadata": {},
   "outputs": [
    {
     "data": {
      "text/plain": [
       "[0.9264466267622952,\n",
       " 0.9280790286076491,\n",
       " 0.9279833875878161,\n",
       " 0.9280905320510233,\n",
       " 0.9260624810952038,\n",
       " 0.9228285674656097,\n",
       " 0.9265067440429781,\n",
       " 0.9283143985433584,\n",
       " 0.9267216591501622,\n",
       " 0.9263414346395072,\n",
       " 0.9263122213805225,\n",
       " 0.926508745426148,\n",
       " 0.9282586548708706,\n",
       " 0.927884956403802,\n",
       " 0.9248288390976562,\n",
       " 0.927631598980306,\n",
       " 0.92878476968871,\n",
       " 0.9292446268634911,\n",
       " 0.9276247858465407,\n",
       " 0.9272615940338544,\n",
       " 0.9279681251690268,\n",
       " 0.9260248103998645,\n",
       " 0.9256425224424498,\n",
       " 0.9275377407130763]"
      ]
     },
     "execution_count": 82,
     "metadata": {},
     "output_type": "execute_result"
    }
   ],
   "source": [
    "R2s"
   ]
  },
  {
   "cell_type": "code",
   "execution_count": null,
   "metadata": {},
   "outputs": [],
   "source": []
  }
 ],
 "metadata": {
  "interpreter": {
   "hash": "2ac3d5d3a4336f34c662130573d1ea696fb4dfcbf6baf7c9925b84262e1f6ae2"
  },
  "kernelspec": {
   "display_name": "Python 3.9.6 64-bit ('base')",
   "language": "python",
   "name": "python3"
  },
  "language_info": {
   "codemirror_mode": {
    "name": "ipython",
    "version": 3
   },
   "file_extension": ".py",
   "mimetype": "text/x-python",
   "name": "python",
   "nbconvert_exporter": "python",
   "pygments_lexer": "ipython3",
   "version": "3.9.6"
  },
  "orig_nbformat": 4
 },
 "nbformat": 4,
 "nbformat_minor": 2
}
