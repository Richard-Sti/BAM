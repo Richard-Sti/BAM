{
 "cells": [
  {
   "cell_type": "code",
   "execution_count": 1,
   "metadata": {},
   "outputs": [],
   "source": [
    "import numpy as np\n",
    "import matplotlib.pyplot as plt\n",
    "\n",
    "import tensorflow as tf\n",
    "import tensorflow_addons as tfa\n",
    "from sklearn.pipeline import Pipeline\n",
    "from sklearn.decomposition import PCA\n",
    "\n",
    "from empiricalgalo import utils, models\n",
    "\n",
    "import joblib\n",
    "\n",
    "%load_ext autoreload\n",
    "%autoreload 2\n",
    "\n",
    "try:\n",
    "    # Disable all GPUS\n",
    "    tf.config.set_visible_devices([], 'GPU')\n",
    "    visible_devices = tf.config.get_visible_devices()\n",
    "    for device in visible_devices:\n",
    "        assert device.device_type != 'GPU'\n",
    "except:\n",
    "    # Invalid device or cannot modify virtual devices once initialized.\n",
    "    pass"
   ]
  },
  {
   "cell_type": "code",
   "execution_count": 2,
   "metadata": {},
   "outputs": [],
   "source": [
    "data = np.load(\"../data/HAGNmatch.npy\")\n",
    "\n",
    "m = (data[\"H_level\"] == 1) & (data[\"H_mhalo\"] > 1e10) & (data[\"G_mgal\"] > 1e9)\n",
    "data = data[m]\n",
    "\n",
    "\n",
    "features = [\"H_mhalo\", \"H_concentration\", \"H_spin\"]\n",
    "log_features = [\"H_mhalo\", \"H_concentration\", \"H_spin\"]\n",
    "\n",
    "target = \"G_mgal\""
   ]
  },
  {
   "cell_type": "code",
   "execution_count": 3,
   "metadata": {},
   "outputs": [],
   "source": [
    "Xtrain, Xtest, ytrain, ytest = utils.stratify_split(data, features, target, target, True)"
   ]
  },
  {
   "cell_type": "code",
   "execution_count": 4,
   "metadata": {},
   "outputs": [],
   "source": [
    "from sklearn.preprocessing import StandardScaler"
   ]
  },
  {
   "cell_type": "code",
   "execution_count": 5,
   "metadata": {},
   "outputs": [],
   "source": [
    "features_pipe = Pipeline([('selector', utils.DataFrameSelector(features, log_features)),\n",
    "                          ('PCA', PCA(whiten=True, n_components=len(features)))])\n",
    "# features_pipe = Pipeline([('selector', utils.DataFrameSelector(features, log_features)),\n",
    "                        #   ('scaler', StandardScaler())])\n",
    "target_pipe = Pipeline([('selector', utils.DataFrameSelector(target, target))])"
   ]
  },
  {
   "cell_type": "code",
   "execution_count": 6,
   "metadata": {},
   "outputs": [],
   "source": [
    "Xtrain, Xtest = utils.apply_preprocess(Xtrain, Xtest, features_pipe)\n",
    "ytrain, ytest = utils.apply_preprocess(ytrain, ytest, target_pipe)"
   ]
  },
  {
   "cell_type": "code",
   "execution_count": 7,
   "metadata": {},
   "outputs": [],
   "source": [
    "checkpoint_dir = \"./checkpoints\"\n",
    "batch_size = 500\n",
    "\n",
    "\n",
    "clr = tfa.optimizers.CyclicalLearningRate(initial_learning_rate=0.001,\n",
    "    maximal_learning_rate=0.01,\n",
    "    scale_fn=lambda x: 1/(2.**(x-1)),\n",
    "    step_size=2 * len(ytrain) // batch_size)\n",
    "optimizer = tf.optimizers.Adamax(learning_rate=clr)\n",
    "\n",
    "Nensemble = 2"
   ]
  },
  {
   "cell_type": "code",
   "execution_count": 33,
   "metadata": {},
   "outputs": [],
   "source": [
    "cdirs = models.make_checkpoint_dirs(checkpoint_dir, Nensemble)\n",
    "seeds = models.get_random_seeds(Nensemble, 42)"
   ]
  },
  {
   "cell_type": "code",
   "execution_count": null,
   "metadata": {},
   "outputs": [],
   "source": [
    "for i in range(Nensemble):\n",
    "    models.GaussianLossNN.fit_directly(\n",
    "        Xtrain, ytrain, batch_size, cdirs[i], seeds[i],\n",
    "        optimizer=optimizer)"
   ]
  },
  {
   "cell_type": "code",
   "execution_count": null,
   "metadata": {},
   "outputs": [],
   "source": []
  },
  {
   "cell_type": "code",
   "execution_count": null,
   "metadata": {},
   "outputs": [],
   "source": []
  },
  {
   "cell_type": "code",
   "execution_count": 162,
   "metadata": {},
   "outputs": [
    {
     "name": "stdout",
     "output_type": "stream",
     "text": [
      "Found 8 models in `./checkpoints`.\n"
     ]
    }
   ],
   "source": [
    "ensemble = models.SummaryEnsembleGaussianLossNN(checkpoint_dir, optimizer)"
   ]
  },
  {
   "cell_type": "code",
   "execution_count": 168,
   "metadata": {},
   "outputs": [
    {
     "data": {
      "text/plain": [
       "[1.0316183552719453,\n",
       " 0.998103745227621,\n",
       " 1.0316183552719453,\n",
       " 0.998103745227621,\n",
       " 1.0316183552719453,\n",
       " 0.998103745227621,\n",
       " 1.0316183552719453,\n",
       " 0.998103745227621]"
      ]
     },
     "execution_count": 168,
     "metadata": {},
     "output_type": "execute_result"
    }
   ],
   "source": [
    "ensemble.score_reduced_chi2(Xtest, ytest)"
   ]
  },
  {
   "cell_type": "code",
   "execution_count": null,
   "metadata": {},
   "outputs": [],
   "source": []
  },
  {
   "cell_type": "code",
   "execution_count": null,
   "metadata": {},
   "outputs": [],
   "source": []
  },
  {
   "cell_type": "code",
   "execution_count": null,
   "metadata": {},
   "outputs": [],
   "source": []
  },
  {
   "cell_type": "code",
   "execution_count": null,
   "metadata": {},
   "outputs": [],
   "source": []
  },
  {
   "cell_type": "code",
   "execution_count": null,
   "metadata": {},
   "outputs": [],
   "source": []
  },
  {
   "cell_type": "code",
   "execution_count": null,
   "metadata": {},
   "outputs": [],
   "source": []
  }
 ],
 "metadata": {
  "interpreter": {
   "hash": "2ac3d5d3a4336f34c662130573d1ea696fb4dfcbf6baf7c9925b84262e1f6ae2"
  },
  "kernelspec": {
   "display_name": "Python 3.9.6 64-bit ('base')",
   "language": "python",
   "name": "python3"
  },
  "language_info": {
   "codemirror_mode": {
    "name": "ipython",
    "version": 3
   },
   "file_extension": ".py",
   "mimetype": "text/x-python",
   "name": "python",
   "nbconvert_exporter": "python",
   "pygments_lexer": "ipython3",
   "version": "3.9.6"
  },
  "orig_nbformat": 4
 },
 "nbformat": 4,
 "nbformat_minor": 2
}
