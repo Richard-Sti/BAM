{
 "cells": [
  {
   "cell_type": "code",
   "execution_count": 1,
   "metadata": {},
   "outputs": [],
   "source": [
    "import numpy as np\n",
    "import matplotlib.pyplot as plt\n",
    "\n",
    "import tensorflow as tf\n",
    "import tensorflow_addons as tfa\n",
    "from sklearn.pipeline import Pipeline\n",
    "from sklearn.decomposition import PCA\n",
    "\n",
    "from empiricalgalo import utils, models\n",
    "\n",
    "%load_ext autoreload\n",
    "%autoreload 2\n",
    "\n",
    "try:\n",
    "    # Disable all GPUS\n",
    "    tf.config.set_visible_devices([], 'GPU')\n",
    "    visible_devices = tf.config.get_visible_devices()\n",
    "    for device in visible_devices:\n",
    "        assert device.device_type != 'GPU'\n",
    "except:\n",
    "    # Invalid device or cannot modify virtual devices once initialized.\n",
    "    pass"
   ]
  },
  {
   "cell_type": "code",
   "execution_count": 2,
   "metadata": {},
   "outputs": [],
   "source": [
    "data = np.load(\"../data/HAGNmatch.npy\")\n",
    "\n",
    "m = (data[\"H_level\"] == 1) & (data[\"H_mhalo\"] > 1e10) & (data[\"G_mgal\"] > 1e9)\n",
    "data = data[m]\n",
    "\n",
    "\n",
    "features = [\"H_mhalo\", \"H_concentration\", \"H_spin\"]\n",
    "log_features = [\"H_mhalo\", \"H_concentration\", \"H_spin\"]\n",
    "\n",
    "target = \"G_mgal\""
   ]
  },
  {
   "cell_type": "code",
   "execution_count": 3,
   "metadata": {},
   "outputs": [],
   "source": [
    "Xtrain, Xtest, ytrain, ytest = utils.stratify_split(data, features, target, target, True)"
   ]
  },
  {
   "cell_type": "code",
   "execution_count": 4,
   "metadata": {},
   "outputs": [],
   "source": [
    "from sklearn.preprocessing import StandardScaler"
   ]
  },
  {
   "cell_type": "code",
   "execution_count": 5,
   "metadata": {},
   "outputs": [],
   "source": [
    "# features_pipe = Pipeline([('selector', utils.DataFrameSelector(features, log_features)),\n",
    "#                           ('PCA', PCA(whiten=True, n_components=len(features)))])\n",
    "features_pipe = Pipeline([('selector', utils.DataFrameSelector(features, log_features)),\n",
    "                          ('scaler', StandardScaler())])\n",
    "target_pipe = Pipeline([('selector', utils.DataFrameSelector(target, target))])"
   ]
  },
  {
   "cell_type": "code",
   "execution_count": 6,
   "metadata": {},
   "outputs": [],
   "source": [
    "Xtrain, Xtest = utils.apply_preprocess(Xtrain, Xtest, features_pipe)\n",
    "ytrain, ytest = utils.apply_preprocess(ytrain, ytest, target_pipe)"
   ]
  },
  {
   "cell_type": "code",
   "execution_count": 7,
   "metadata": {},
   "outputs": [
    {
     "name": "stderr",
     "output_type": "stream",
     "text": [
      "2022-05-08 19:06:19.742854: W tensorflow/python/util/util.cc:368] Sets are not currently considered sequences, but this may change in the future, so consider avoiding using them.\n"
     ]
    }
   ],
   "source": [
    "Ninputs = len(features)\n",
    "checkpoint_dir = \"./checkpoints\"\n",
    "\n",
    "batch_size = 500\n",
    "steps_per_epoch = len(ytrain) // batch_size\n",
    "\n",
    "model = models.GaussianLossNN(Ninputs, checkpoint_dir)\n",
    "\n",
    "schedule = tf.keras.optimizers.schedules.ExponentialDecay(\n",
    "    initial_learning_rate=0.004, decay_steps=3000, decay_rate=1.3)\n",
    "\n",
    "clr = tfa.optimizers.CyclicalLearningRate(initial_learning_rate=0.001,\n",
    "    maximal_learning_rate=0.01,\n",
    "    scale_fn=lambda x: 1/(2.**(x-1)),\n",
    "    step_size=2 * steps_per_epoch\n",
    ")\n",
    "\n",
    "\n",
    "optimizer = tf.optimizers.Adamax(learning_rate=clr)"
   ]
  },
  {
   "cell_type": "code",
   "execution_count": 8,
   "metadata": {},
   "outputs": [
    {
     "name": "stderr",
     "output_type": "stream",
     "text": [
      "2022-05-08 19:06:20.082276: W tensorflow/core/platform/profile_utils/cpu_utils.cc:128] Failed to get CPU frequency: 0 Hz\n"
     ]
    },
    {
     "name": "stdout",
     "output_type": "stream",
     "text": [
      "WARNING:tensorflow:AutoGraph could not transform <bound method Socket.send of <zmq.Socket(zmq.PUSH) at 0x10467a9a0>> and will run it as-is.\n",
      "Please report this to the TensorFlow team. When filing the bug, set the verbosity to 10 (on Linux, `export AUTOGRAPH_VERBOSITY=10`) and attach the full output.\n",
      "Cause: module, class, method, function, traceback, frame, or code object was expected, got cython_function_or_method\n",
      "To silence this warning, decorate the function with @tf.autograph.experimental.do_not_convert\n"
     ]
    },
    {
     "name": "stderr",
     "output_type": "stream",
     "text": [
      "WARNING:absl:Cannot perturb features dict_keys(['label'])\n",
      "WARNING:tensorflow:AutoGraph could not transform <bound method Socket.send of <zmq.Socket(zmq.PUSH) at 0x10467a9a0>> and will run it as-is.\n",
      "Please report this to the TensorFlow team. When filing the bug, set the verbosity to 10 (on Linux, `export AUTOGRAPH_VERBOSITY=10`) and attach the full output.\n",
      "Cause: module, class, method, function, traceback, frame, or code object was expected, got cython_function_or_method\n",
      "To silence this warning, decorate the function with @tf.autograph.experimental.do_not_convert\n"
     ]
    },
    {
     "name": "stdout",
     "output_type": "stream",
     "text": [
      "WARNING: AutoGraph could not transform <bound method Socket.send of <zmq.Socket(zmq.PUSH) at 0x10467a9a0>> and will run it as-is.\n",
      "Please report this to the TensorFlow team. When filing the bug, set the verbosity to 10 (on Linux, `export AUTOGRAPH_VERBOSITY=10`) and attach the full output.\n",
      "Cause: module, class, method, function, traceback, frame, or code object was expected, got cython_function_or_method\n",
      "To silence this warning, decorate the function with @tf.autograph.experimental.do_not_convert\n"
     ]
    }
   ],
   "source": [
    "model.fit(Xtrain, ytrain, batch_size=batch_size, optimizer=optimizer)"
   ]
  },
  {
   "cell_type": "code",
   "execution_count": 9,
   "metadata": {},
   "outputs": [],
   "source": [
    "stats = model.predict_stats(Xtest)"
   ]
  },
  {
   "cell_type": "code",
   "execution_count": 10,
   "metadata": {},
   "outputs": [
    {
     "data": {
      "text/plain": [
       "0.9251035579678573"
      ]
     },
     "execution_count": 10,
     "metadata": {},
     "output_type": "execute_result"
    }
   ],
   "source": [
    "model.score_R2mean(Xtest, ytest)"
   ]
  },
  {
   "cell_type": "code",
   "execution_count": 11,
   "metadata": {},
   "outputs": [
    {
     "data": {
      "text/plain": [
       "0.9955718751849335"
      ]
     },
     "execution_count": 11,
     "metadata": {},
     "output_type": "execute_result"
    }
   ],
   "source": [
    "model.score_reduced_chi2(Xtest, ytest)"
   ]
  },
  {
   "cell_type": "code",
   "execution_count": 12,
   "metadata": {},
   "outputs": [],
   "source": [
    "grad = model.predict_gradient(Xtest)"
   ]
  },
  {
   "cell_type": "code",
   "execution_count": 13,
   "metadata": {},
   "outputs": [
    {
     "data": {
      "text/plain": [
       "array([[[ 1.03605008e+00,  1.72307074e-01,  5.62639236e-02],\n",
       "        [ 6.46245658e-01,  6.40830994e-02, -3.24754119e-02],\n",
       "        [ 9.23328519e-01,  1.77188396e-01, -4.38833237e-02],\n",
       "        ...,\n",
       "        [ 7.40495503e-01,  1.44428432e-01, -1.11528322e-01],\n",
       "        [ 3.07741299e-01,  3.44804585e-01, -2.70448923e-02],\n",
       "        [ 6.97233737e-01,  1.36083901e-01, -1.10475570e-02]],\n",
       "\n",
       "       [[-2.68146554e-02, -2.07146583e-02,  3.75318360e-03],\n",
       "        [-1.94565752e-02, -2.51153600e-02,  6.39445458e-03],\n",
       "        [-1.91752193e-02, -1.77354710e-02,  2.22258936e-03],\n",
       "        ...,\n",
       "        [-1.58516343e-02, -3.06820665e-02, -1.64194437e-03],\n",
       "        [-1.31057180e-02, -3.14433333e-02,  1.02991281e-02],\n",
       "        [-4.03922237e-02, -3.98880062e-02,  4.45950371e-04]]])"
      ]
     },
     "execution_count": 13,
     "metadata": {},
     "output_type": "execute_result"
    }
   ],
   "source": [
    "grad"
   ]
  },
  {
   "cell_type": "code",
   "execution_count": 15,
   "metadata": {},
   "outputs": [
    {
     "data": {
      "text/plain": [
       "{'linear_input': <tf.Tensor: shape=(9847, 3), dtype=float64, numpy=\n",
       " array([[ 1.0698806 ,  0.34427003, -0.02676497],\n",
       "        [ 0.49080297,  0.15601809, -0.02182768],\n",
       "        [ 0.88002521,  0.29177315,  0.0132014 ],\n",
       "        ...,\n",
       "        [ 0.805926  ,  0.16912604,  0.00598337],\n",
       "        [ 0.40682848,  0.08471442, -0.00504727],\n",
       "        [ 0.65356833,  0.11743264,  0.00666493]])>,\n",
       " 'deep_input': <tf.Tensor: shape=(9847, 3), dtype=float64, numpy=\n",
       " array([[ 1.0698806 ,  0.34427003, -0.02676497],\n",
       "        [ 0.49080297,  0.15601809, -0.02182768],\n",
       "        [ 0.88002521,  0.29177315,  0.0132014 ],\n",
       "        ...,\n",
       "        [ 0.805926  ,  0.16912604,  0.00598337],\n",
       "        [ 0.40682848,  0.08471442, -0.00504727],\n",
       "        [ 0.65356833,  0.11743264,  0.00666493]])>}"
      ]
     },
     "execution_count": 15,
     "metadata": {},
     "output_type": "execute_result"
    }
   ],
   "source": [
    "mu_grad"
   ]
  },
  {
   "cell_type": "code",
   "execution_count": 263,
   "metadata": {},
   "outputs": [
    {
     "data": {
      "text/plain": [
       "array(None, dtype=object)"
      ]
     },
     "execution_count": 263,
     "metadata": {},
     "output_type": "execute_result"
    }
   ],
   "source": [
    "np.asarray(mu_grad)"
   ]
  },
  {
   "cell_type": "code",
   "execution_count": 250,
   "metadata": {},
   "outputs": [],
   "source": [
    "Xtestinv = features_pipe.inverse_transform(Xtest)"
   ]
  },
  {
   "cell_type": "code",
   "execution_count": 252,
   "metadata": {},
   "outputs": [
    {
     "data": {
      "image/png": "[encoded data removed]",
      "text/plain": [
       "<Figure size 648x432 with 1 Axes>"
      ]
     },
     "metadata": {
      "needs_background": "light"
     },
     "output_type": "display_data"
    }
   ],
   "source": [
    "plt.figure(figsize=(9, 6))\n",
    "for i in range(3):\n",
    "    plt.scatter(Xtestinv[features[i]], grad[:, i], s=1)\n",
    "# plt.ylim(-50, 50)\n",
    "\n",
    "plt.axhline(0, c=\"red\")\n",
    "\n",
    "plt.xscale(\"log\")\n",
    "plt.show()"
   ]
  },
  {
   "cell_type": "code",
   "execution_count": null,
   "metadata": {},
   "outputs": [],
   "source": []
  },
  {
   "cell_type": "code",
   "execution_count": null,
   "metadata": {},
   "outputs": [],
   "source": []
  },
  {
   "cell_type": "code",
   "execution_count": 22,
   "metadata": {},
   "outputs": [
    {
     "data": {
      "text/plain": [
       "1.0485088276052041"
      ]
     },
     "execution_count": 22,
     "metadata": {},
     "output_type": "execute_result"
    }
   ],
   "source": [
    "np.sum((stats[\"mean\"] - ytest.reshape(-1,))**2 / stats[\"std\"]**2) / (ytest.size - 2)"
   ]
  },
  {
   "cell_type": "code",
   "execution_count": 25,
   "metadata": {},
   "outputs": [
    {
     "data": {
      "text/plain": [
       "(9847, 1)"
      ]
     },
     "execution_count": 25,
     "metadata": {},
     "output_type": "execute_result"
    }
   ],
   "source": [
    "ytest.shape"
   ]
  },
  {
   "cell_type": "code",
   "execution_count": 19,
   "metadata": {},
   "outputs": [],
   "source": [
    "z = (stats[\"mean\"] - ytest.reshape(-1,)) / stats[\"std\"]"
   ]
  },
  {
   "cell_type": "code",
   "execution_count": 20,
   "metadata": {},
   "outputs": [
    {
     "data": {
      "text/plain": [
       "array([-0.40862447,  1.6247173 ,  0.494661  , ...,  1.35488788,\n",
       "       -0.39358713, -0.69763132])"
      ]
     },
     "execution_count": 20,
     "metadata": {},
     "output_type": "execute_result"
    }
   ],
   "source": [
    "z"
   ]
  },
  {
   "cell_type": "code",
   "execution_count": 32,
   "metadata": {},
   "outputs": [
    {
     "ename": "KeyboardInterrupt",
     "evalue": "",
     "output_type": "error",
     "traceback": [
      "\u001b[0;31m---------------------------------------------------------------------------\u001b[0m",
      "\u001b[0;31mKeyboardInterrupt\u001b[0m                         Traceback (most recent call last)",
      "\u001b[1;32m/Users/richard/Projects/empiricalgalo/nn_testing.ipynb Cell 13'\u001b[0m in \u001b[0;36m<cell line: 2>\u001b[0;34m()\u001b[0m\n\u001b[1;32m      <a href='vscode-notebook-cell:/Users/richard/Projects/empiricalgalo/nn_testing.ipynb#ch0000044?line=0'>1</a>\u001b[0m plt\u001b[39m.\u001b[39mfigure()\n\u001b[0;32m----> <a href='vscode-notebook-cell:/Users/richard/Projects/empiricalgalo/nn_testing.ipynb#ch0000044?line=1'>2</a>\u001b[0m plt\u001b[39m.\u001b[39;49mhist(z, bins\u001b[39m=\u001b[39;49m\u001b[39m\"\u001b[39;49m\u001b[39mauto\u001b[39;49m\u001b[39m\"\u001b[39;49m)\n\u001b[1;32m      <a href='vscode-notebook-cell:/Users/richard/Projects/empiricalgalo/nn_testing.ipynb#ch0000044?line=2'>3</a>\u001b[0m plt\u001b[39m.\u001b[39mshow()\n",
      "File \u001b[0;32m/opt/homebrew/Caskroom/miniforge/base/lib/python3.9/site-packages/matplotlib/pyplot.py:2853\u001b[0m, in \u001b[0;36mhist\u001b[0;34m(x, bins, range, density, weights, cumulative, bottom, histtype, align, orientation, rwidth, log, color, label, stacked, data, **kwargs)\u001b[0m\n\u001b[1;32m   <a href='file:///opt/homebrew/Caskroom/miniforge/base/lib/python3.9/site-packages/matplotlib/pyplot.py?line=2846'>2847</a>\u001b[0m \u001b[39m@_copy_docstring_and_deprecators\u001b[39m(Axes\u001b[39m.\u001b[39mhist)\n\u001b[1;32m   <a href='file:///opt/homebrew/Caskroom/miniforge/base/lib/python3.9/site-packages/matplotlib/pyplot.py?line=2847'>2848</a>\u001b[0m \u001b[39mdef\u001b[39;00m \u001b[39mhist\u001b[39m(\n\u001b[1;32m   <a href='file:///opt/homebrew/Caskroom/miniforge/base/lib/python3.9/site-packages/matplotlib/pyplot.py?line=2848'>2849</a>\u001b[0m         x, bins\u001b[39m=\u001b[39m\u001b[39mNone\u001b[39;00m, \u001b[39mrange\u001b[39m\u001b[39m=\u001b[39m\u001b[39mNone\u001b[39;00m, density\u001b[39m=\u001b[39m\u001b[39mFalse\u001b[39;00m, weights\u001b[39m=\u001b[39m\u001b[39mNone\u001b[39;00m,\n\u001b[1;32m   <a href='file:///opt/homebrew/Caskroom/miniforge/base/lib/python3.9/site-packages/matplotlib/pyplot.py?line=2849'>2850</a>\u001b[0m         cumulative\u001b[39m=\u001b[39m\u001b[39mFalse\u001b[39;00m, bottom\u001b[39m=\u001b[39m\u001b[39mNone\u001b[39;00m, histtype\u001b[39m=\u001b[39m\u001b[39m'\u001b[39m\u001b[39mbar\u001b[39m\u001b[39m'\u001b[39m, align\u001b[39m=\u001b[39m\u001b[39m'\u001b[39m\u001b[39mmid\u001b[39m\u001b[39m'\u001b[39m,\n\u001b[1;32m   <a href='file:///opt/homebrew/Caskroom/miniforge/base/lib/python3.9/site-packages/matplotlib/pyplot.py?line=2850'>2851</a>\u001b[0m         orientation\u001b[39m=\u001b[39m\u001b[39m'\u001b[39m\u001b[39mvertical\u001b[39m\u001b[39m'\u001b[39m, rwidth\u001b[39m=\u001b[39m\u001b[39mNone\u001b[39;00m, log\u001b[39m=\u001b[39m\u001b[39mFalse\u001b[39;00m, color\u001b[39m=\u001b[39m\u001b[39mNone\u001b[39;00m,\n\u001b[1;32m   <a href='file:///opt/homebrew/Caskroom/miniforge/base/lib/python3.9/site-packages/matplotlib/pyplot.py?line=2851'>2852</a>\u001b[0m         label\u001b[39m=\u001b[39m\u001b[39mNone\u001b[39;00m, stacked\u001b[39m=\u001b[39m\u001b[39mFalse\u001b[39;00m, \u001b[39m*\u001b[39m, data\u001b[39m=\u001b[39m\u001b[39mNone\u001b[39;00m, \u001b[39m*\u001b[39m\u001b[39m*\u001b[39mkwargs):\n\u001b[0;32m-> <a href='file:///opt/homebrew/Caskroom/miniforge/base/lib/python3.9/site-packages/matplotlib/pyplot.py?line=2852'>2853</a>\u001b[0m     \u001b[39mreturn\u001b[39;00m gca()\u001b[39m.\u001b[39;49mhist(\n\u001b[1;32m   <a href='file:///opt/homebrew/Caskroom/miniforge/base/lib/python3.9/site-packages/matplotlib/pyplot.py?line=2853'>2854</a>\u001b[0m         x, bins\u001b[39m=\u001b[39;49mbins, \u001b[39mrange\u001b[39;49m\u001b[39m=\u001b[39;49m\u001b[39mrange\u001b[39;49m, density\u001b[39m=\u001b[39;49mdensity, weights\u001b[39m=\u001b[39;49mweights,\n\u001b[1;32m   <a href='file:///opt/homebrew/Caskroom/miniforge/base/lib/python3.9/site-packages/matplotlib/pyplot.py?line=2854'>2855</a>\u001b[0m         cumulative\u001b[39m=\u001b[39;49mcumulative, bottom\u001b[39m=\u001b[39;49mbottom, histtype\u001b[39m=\u001b[39;49mhisttype,\n\u001b[1;32m   <a href='file:///opt/homebrew/Caskroom/miniforge/base/lib/python3.9/site-packages/matplotlib/pyplot.py?line=2855'>2856</a>\u001b[0m         align\u001b[39m=\u001b[39;49malign, orientation\u001b[39m=\u001b[39;49morientation, rwidth\u001b[39m=\u001b[39;49mrwidth, log\u001b[39m=\u001b[39;49mlog,\n\u001b[1;32m   <a href='file:///opt/homebrew/Caskroom/miniforge/base/lib/python3.9/site-packages/matplotlib/pyplot.py?line=2856'>2857</a>\u001b[0m         color\u001b[39m=\u001b[39;49mcolor, label\u001b[39m=\u001b[39;49mlabel, stacked\u001b[39m=\u001b[39;49mstacked,\n\u001b[1;32m   <a href='file:///opt/homebrew/Caskroom/miniforge/base/lib/python3.9/site-packages/matplotlib/pyplot.py?line=2857'>2858</a>\u001b[0m         \u001b[39m*\u001b[39;49m\u001b[39m*\u001b[39;49m({\u001b[39m\"\u001b[39;49m\u001b[39mdata\u001b[39;49m\u001b[39m\"\u001b[39;49m: data} \u001b[39mif\u001b[39;49;00m data \u001b[39mis\u001b[39;49;00m \u001b[39mnot\u001b[39;49;00m \u001b[39mNone\u001b[39;49;00m \u001b[39melse\u001b[39;49;00m {}), \u001b[39m*\u001b[39;49m\u001b[39m*\u001b[39;49mkwargs)\n",
      "File \u001b[0;32m/opt/homebrew/Caskroom/miniforge/base/lib/python3.9/site-packages/matplotlib/__init__.py:1361\u001b[0m, in \u001b[0;36m_preprocess_data.<locals>.inner\u001b[0;34m(ax, data, *args, **kwargs)\u001b[0m\n\u001b[1;32m   <a href='file:///opt/homebrew/Caskroom/miniforge/base/lib/python3.9/site-packages/matplotlib/__init__.py?line=1357'>1358</a>\u001b[0m \u001b[39m@functools\u001b[39m\u001b[39m.\u001b[39mwraps(func)\n\u001b[1;32m   <a href='file:///opt/homebrew/Caskroom/miniforge/base/lib/python3.9/site-packages/matplotlib/__init__.py?line=1358'>1359</a>\u001b[0m \u001b[39mdef\u001b[39;00m \u001b[39minner\u001b[39m(ax, \u001b[39m*\u001b[39margs, data\u001b[39m=\u001b[39m\u001b[39mNone\u001b[39;00m, \u001b[39m*\u001b[39m\u001b[39m*\u001b[39mkwargs):\n\u001b[1;32m   <a href='file:///opt/homebrew/Caskroom/miniforge/base/lib/python3.9/site-packages/matplotlib/__init__.py?line=1359'>1360</a>\u001b[0m     \u001b[39mif\u001b[39;00m data \u001b[39mis\u001b[39;00m \u001b[39mNone\u001b[39;00m:\n\u001b[0;32m-> <a href='file:///opt/homebrew/Caskroom/miniforge/base/lib/python3.9/site-packages/matplotlib/__init__.py?line=1360'>1361</a>\u001b[0m         \u001b[39mreturn\u001b[39;00m func(ax, \u001b[39m*\u001b[39;49m\u001b[39mmap\u001b[39;49m(sanitize_sequence, args), \u001b[39m*\u001b[39;49m\u001b[39m*\u001b[39;49mkwargs)\n\u001b[1;32m   <a href='file:///opt/homebrew/Caskroom/miniforge/base/lib/python3.9/site-packages/matplotlib/__init__.py?line=1362'>1363</a>\u001b[0m     bound \u001b[39m=\u001b[39m new_sig\u001b[39m.\u001b[39mbind(ax, \u001b[39m*\u001b[39margs, \u001b[39m*\u001b[39m\u001b[39m*\u001b[39mkwargs)\n\u001b[1;32m   <a href='file:///opt/homebrew/Caskroom/miniforge/base/lib/python3.9/site-packages/matplotlib/__init__.py?line=1363'>1364</a>\u001b[0m     auto_label \u001b[39m=\u001b[39m (bound\u001b[39m.\u001b[39marguments\u001b[39m.\u001b[39mget(label_namer)\n\u001b[1;32m   <a href='file:///opt/homebrew/Caskroom/miniforge/base/lib/python3.9/site-packages/matplotlib/__init__.py?line=1364'>1365</a>\u001b[0m                   \u001b[39mor\u001b[39;00m bound\u001b[39m.\u001b[39mkwargs\u001b[39m.\u001b[39mget(label_namer))\n",
      "File \u001b[0;32m/opt/homebrew/Caskroom/miniforge/base/lib/python3.9/site-packages/matplotlib/axes/_axes.py:6818\u001b[0m, in \u001b[0;36mAxes.hist\u001b[0;34m(self, x, bins, range, density, weights, cumulative, bottom, histtype, align, orientation, rwidth, log, color, label, stacked, **kwargs)\u001b[0m\n\u001b[1;32m   <a href='file:///opt/homebrew/Caskroom/miniforge/base/lib/python3.9/site-packages/matplotlib/axes/_axes.py?line=6815'>6816</a>\u001b[0m \u001b[39melse\u001b[39;00m:\n\u001b[1;32m   <a href='file:///opt/homebrew/Caskroom/miniforge/base/lib/python3.9/site-packages/matplotlib/axes/_axes.py?line=6816'>6817</a>\u001b[0m     height \u001b[39m=\u001b[39m m\n\u001b[0;32m-> <a href='file:///opt/homebrew/Caskroom/miniforge/base/lib/python3.9/site-packages/matplotlib/axes/_axes.py?line=6817'>6818</a>\u001b[0m bars \u001b[39m=\u001b[39m _barfunc(bins[:\u001b[39m-\u001b[39;49m\u001b[39m1\u001b[39;49m]\u001b[39m+\u001b[39;49mboffset, height, width,\n\u001b[1;32m   <a href='file:///opt/homebrew/Caskroom/miniforge/base/lib/python3.9/site-packages/matplotlib/axes/_axes.py?line=6818'>6819</a>\u001b[0m                 align\u001b[39m=\u001b[39;49m\u001b[39m'\u001b[39;49m\u001b[39mcenter\u001b[39;49m\u001b[39m'\u001b[39;49m, log\u001b[39m=\u001b[39;49mlog,\n\u001b[1;32m   <a href='file:///opt/homebrew/Caskroom/miniforge/base/lib/python3.9/site-packages/matplotlib/axes/_axes.py?line=6819'>6820</a>\u001b[0m                 color\u001b[39m=\u001b[39;49mc, \u001b[39m*\u001b[39;49m\u001b[39m*\u001b[39;49m{bottom_kwarg: bottom})\n\u001b[1;32m   <a href='file:///opt/homebrew/Caskroom/miniforge/base/lib/python3.9/site-packages/matplotlib/axes/_axes.py?line=6820'>6821</a>\u001b[0m patches\u001b[39m.\u001b[39mappend(bars)\n\u001b[1;32m   <a href='file:///opt/homebrew/Caskroom/miniforge/base/lib/python3.9/site-packages/matplotlib/axes/_axes.py?line=6821'>6822</a>\u001b[0m \u001b[39mif\u001b[39;00m stacked:\n",
      "File \u001b[0;32m/opt/homebrew/Caskroom/miniforge/base/lib/python3.9/site-packages/matplotlib/__init__.py:1361\u001b[0m, in \u001b[0;36m_preprocess_data.<locals>.inner\u001b[0;34m(ax, data, *args, **kwargs)\u001b[0m\n\u001b[1;32m   <a href='file:///opt/homebrew/Caskroom/miniforge/base/lib/python3.9/site-packages/matplotlib/__init__.py?line=1357'>1358</a>\u001b[0m \u001b[39m@functools\u001b[39m\u001b[39m.\u001b[39mwraps(func)\n\u001b[1;32m   <a href='file:///opt/homebrew/Caskroom/miniforge/base/lib/python3.9/site-packages/matplotlib/__init__.py?line=1358'>1359</a>\u001b[0m \u001b[39mdef\u001b[39;00m \u001b[39minner\u001b[39m(ax, \u001b[39m*\u001b[39margs, data\u001b[39m=\u001b[39m\u001b[39mNone\u001b[39;00m, \u001b[39m*\u001b[39m\u001b[39m*\u001b[39mkwargs):\n\u001b[1;32m   <a href='file:///opt/homebrew/Caskroom/miniforge/base/lib/python3.9/site-packages/matplotlib/__init__.py?line=1359'>1360</a>\u001b[0m     \u001b[39mif\u001b[39;00m data \u001b[39mis\u001b[39;00m \u001b[39mNone\u001b[39;00m:\n\u001b[0;32m-> <a href='file:///opt/homebrew/Caskroom/miniforge/base/lib/python3.9/site-packages/matplotlib/__init__.py?line=1360'>1361</a>\u001b[0m         \u001b[39mreturn\u001b[39;00m func(ax, \u001b[39m*\u001b[39;49m\u001b[39mmap\u001b[39;49m(sanitize_sequence, args), \u001b[39m*\u001b[39;49m\u001b[39m*\u001b[39;49mkwargs)\n\u001b[1;32m   <a href='file:///opt/homebrew/Caskroom/miniforge/base/lib/python3.9/site-packages/matplotlib/__init__.py?line=1362'>1363</a>\u001b[0m     bound \u001b[39m=\u001b[39m new_sig\u001b[39m.\u001b[39mbind(ax, \u001b[39m*\u001b[39margs, \u001b[39m*\u001b[39m\u001b[39m*\u001b[39mkwargs)\n\u001b[1;32m   <a href='file:///opt/homebrew/Caskroom/miniforge/base/lib/python3.9/site-packages/matplotlib/__init__.py?line=1363'>1364</a>\u001b[0m     auto_label \u001b[39m=\u001b[39m (bound\u001b[39m.\u001b[39marguments\u001b[39m.\u001b[39mget(label_namer)\n\u001b[1;32m   <a href='file:///opt/homebrew/Caskroom/miniforge/base/lib/python3.9/site-packages/matplotlib/__init__.py?line=1364'>1365</a>\u001b[0m                   \u001b[39mor\u001b[39;00m bound\u001b[39m.\u001b[39mkwargs\u001b[39m.\u001b[39mget(label_namer))\n",
      "File \u001b[0;32m/opt/homebrew/Caskroom/miniforge/base/lib/python3.9/site-packages/matplotlib/axes/_axes.py:2371\u001b[0m, in \u001b[0;36mAxes.bar\u001b[0;34m(self, x, height, width, bottom, align, **kwargs)\u001b[0m\n\u001b[1;32m   <a href='file:///opt/homebrew/Caskroom/miniforge/base/lib/python3.9/site-packages/matplotlib/axes/_axes.py?line=2368'>2369</a>\u001b[0m     \u001b[39melif\u001b[39;00m orientation \u001b[39m==\u001b[39m \u001b[39m'\u001b[39m\u001b[39mhorizontal\u001b[39m\u001b[39m'\u001b[39m:\n\u001b[1;32m   <a href='file:///opt/homebrew/Caskroom/miniforge/base/lib/python3.9/site-packages/matplotlib/axes/_axes.py?line=2369'>2370</a>\u001b[0m         r\u001b[39m.\u001b[39msticky_edges\u001b[39m.\u001b[39mx\u001b[39m.\u001b[39mappend(l)\n\u001b[0;32m-> <a href='file:///opt/homebrew/Caskroom/miniforge/base/lib/python3.9/site-packages/matplotlib/axes/_axes.py?line=2370'>2371</a>\u001b[0m     \u001b[39mself\u001b[39;49m\u001b[39m.\u001b[39;49madd_patch(r)\n\u001b[1;32m   <a href='file:///opt/homebrew/Caskroom/miniforge/base/lib/python3.9/site-packages/matplotlib/axes/_axes.py?line=2371'>2372</a>\u001b[0m     patches\u001b[39m.\u001b[39mappend(r)\n\u001b[1;32m   <a href='file:///opt/homebrew/Caskroom/miniforge/base/lib/python3.9/site-packages/matplotlib/axes/_axes.py?line=2373'>2374</a>\u001b[0m \u001b[39mif\u001b[39;00m xerr \u001b[39mis\u001b[39;00m \u001b[39mnot\u001b[39;00m \u001b[39mNone\u001b[39;00m \u001b[39mor\u001b[39;00m yerr \u001b[39mis\u001b[39;00m \u001b[39mnot\u001b[39;00m \u001b[39mNone\u001b[39;00m:\n",
      "File \u001b[0;32m/opt/homebrew/Caskroom/miniforge/base/lib/python3.9/site-packages/matplotlib/axes/_base.py:2170\u001b[0m, in \u001b[0;36m_AxesBase.add_patch\u001b[0;34m(self, p)\u001b[0m\n\u001b[1;32m   <a href='file:///opt/homebrew/Caskroom/miniforge/base/lib/python3.9/site-packages/matplotlib/axes/_base.py?line=2167'>2168</a>\u001b[0m \u001b[39mif\u001b[39;00m p\u001b[39m.\u001b[39mget_clip_path() \u001b[39mis\u001b[39;00m \u001b[39mNone\u001b[39;00m:\n\u001b[1;32m   <a href='file:///opt/homebrew/Caskroom/miniforge/base/lib/python3.9/site-packages/matplotlib/axes/_base.py?line=2168'>2169</a>\u001b[0m     p\u001b[39m.\u001b[39mset_clip_path(\u001b[39mself\u001b[39m\u001b[39m.\u001b[39mpatch)\n\u001b[0;32m-> <a href='file:///opt/homebrew/Caskroom/miniforge/base/lib/python3.9/site-packages/matplotlib/axes/_base.py?line=2169'>2170</a>\u001b[0m \u001b[39mself\u001b[39;49m\u001b[39m.\u001b[39;49m_update_patch_limits(p)\n\u001b[1;32m   <a href='file:///opt/homebrew/Caskroom/miniforge/base/lib/python3.9/site-packages/matplotlib/axes/_base.py?line=2170'>2171</a>\u001b[0m \u001b[39mself\u001b[39m\u001b[39m.\u001b[39mpatches\u001b[39m.\u001b[39mappend(p)\n\u001b[1;32m   <a href='file:///opt/homebrew/Caskroom/miniforge/base/lib/python3.9/site-packages/matplotlib/axes/_base.py?line=2171'>2172</a>\u001b[0m p\u001b[39m.\u001b[39m_remove_method \u001b[39m=\u001b[39m \u001b[39mself\u001b[39m\u001b[39m.\u001b[39mpatches\u001b[39m.\u001b[39mremove\n",
      "File \u001b[0;32m/opt/homebrew/Caskroom/miniforge/base/lib/python3.9/site-packages/matplotlib/axes/_base.py:2198\u001b[0m, in \u001b[0;36m_AxesBase._update_patch_limits\u001b[0;34m(self, patch)\u001b[0m\n\u001b[1;32m   <a href='file:///opt/homebrew/Caskroom/miniforge/base/lib/python3.9/site-packages/matplotlib/axes/_base.py?line=2193'>2194</a>\u001b[0m     patch_to_data \u001b[39m=\u001b[39m (patch\u001b[39m.\u001b[39mget_data_transform() \u001b[39m-\u001b[39m\n\u001b[1;32m   <a href='file:///opt/homebrew/Caskroom/miniforge/base/lib/python3.9/site-packages/matplotlib/axes/_base.py?line=2194'>2195</a>\u001b[0m                      \u001b[39mself\u001b[39m\u001b[39m.\u001b[39mtransData)\n\u001b[1;32m   <a href='file:///opt/homebrew/Caskroom/miniforge/base/lib/python3.9/site-packages/matplotlib/axes/_base.py?line=2195'>2196</a>\u001b[0m     xys \u001b[39m=\u001b[39m patch_to_data\u001b[39m.\u001b[39mtransform(xys)\n\u001b[0;32m-> <a href='file:///opt/homebrew/Caskroom/miniforge/base/lib/python3.9/site-packages/matplotlib/axes/_base.py?line=2197'>2198</a>\u001b[0m updatex, updatey \u001b[39m=\u001b[39m patch\u001b[39m.\u001b[39;49mget_transform()\u001b[39m.\u001b[39;49m\\\n\u001b[1;32m   <a href='file:///opt/homebrew/Caskroom/miniforge/base/lib/python3.9/site-packages/matplotlib/axes/_base.py?line=2198'>2199</a>\u001b[0m     contains_branch_seperately(\u001b[39mself\u001b[39;49m\u001b[39m.\u001b[39;49mtransData)\n\u001b[1;32m   <a href='file:///opt/homebrew/Caskroom/miniforge/base/lib/python3.9/site-packages/matplotlib/axes/_base.py?line=2199'>2200</a>\u001b[0m \u001b[39mself\u001b[39m\u001b[39m.\u001b[39mupdate_datalim(xys, updatex\u001b[39m=\u001b[39mupdatex,\n\u001b[1;32m   <a href='file:///opt/homebrew/Caskroom/miniforge/base/lib/python3.9/site-packages/matplotlib/axes/_base.py?line=2200'>2201</a>\u001b[0m                     updatey\u001b[39m=\u001b[39mupdatey)\n",
      "File \u001b[0;32m/opt/homebrew/Caskroom/miniforge/base/lib/python3.9/site-packages/matplotlib/transforms.py:1391\u001b[0m, in \u001b[0;36mTransform.contains_branch_seperately\u001b[0;34m(self, other_transform)\u001b[0m\n\u001b[1;32m   <a href='file:///opt/homebrew/Caskroom/miniforge/base/lib/python3.9/site-packages/matplotlib/transforms.py?line=1386'>1387</a>\u001b[0m     \u001b[39mraise\u001b[39;00m \u001b[39mValueError\u001b[39;00m(\u001b[39m'\u001b[39m\u001b[39mcontains_branch_seperately only supports \u001b[39m\u001b[39m'\u001b[39m\n\u001b[1;32m   <a href='file:///opt/homebrew/Caskroom/miniforge/base/lib/python3.9/site-packages/matplotlib/transforms.py?line=1387'>1388</a>\u001b[0m                      \u001b[39m'\u001b[39m\u001b[39mtransforms with 2 output dimensions\u001b[39m\u001b[39m'\u001b[39m)\n\u001b[1;32m   <a href='file:///opt/homebrew/Caskroom/miniforge/base/lib/python3.9/site-packages/matplotlib/transforms.py?line=1388'>1389</a>\u001b[0m \u001b[39m# for a non-blended transform each separate dimension is the same, so\u001b[39;00m\n\u001b[1;32m   <a href='file:///opt/homebrew/Caskroom/miniforge/base/lib/python3.9/site-packages/matplotlib/transforms.py?line=1389'>1390</a>\u001b[0m \u001b[39m# just return the appropriate shape.\u001b[39;00m\n\u001b[0;32m-> <a href='file:///opt/homebrew/Caskroom/miniforge/base/lib/python3.9/site-packages/matplotlib/transforms.py?line=1390'>1391</a>\u001b[0m \u001b[39mreturn\u001b[39;00m [\u001b[39mself\u001b[39;49m\u001b[39m.\u001b[39;49mcontains_branch(other_transform)] \u001b[39m*\u001b[39m \u001b[39m2\u001b[39m\n",
      "File \u001b[0;32m/opt/homebrew/Caskroom/miniforge/base/lib/python3.9/site-packages/matplotlib/transforms.py:1370\u001b[0m, in \u001b[0;36mTransform.contains_branch\u001b[0;34m(self, other)\u001b[0m\n\u001b[1;32m   <a href='file:///opt/homebrew/Caskroom/miniforge/base/lib/python3.9/site-packages/matplotlib/transforms.py?line=1366'>1367</a>\u001b[0m     \u001b[39mreturn\u001b[39;00m \u001b[39mFalse\u001b[39;00m\n\u001b[1;32m   <a href='file:///opt/homebrew/Caskroom/miniforge/base/lib/python3.9/site-packages/matplotlib/transforms.py?line=1368'>1369</a>\u001b[0m \u001b[39m# check that a subtree is equal to other (starting from self)\u001b[39;00m\n\u001b[0;32m-> <a href='file:///opt/homebrew/Caskroom/miniforge/base/lib/python3.9/site-packages/matplotlib/transforms.py?line=1369'>1370</a>\u001b[0m \u001b[39mfor\u001b[39;00m _, sub_tree \u001b[39min\u001b[39;00m \u001b[39mself\u001b[39m\u001b[39m.\u001b[39m_iter_break_from_left_to_right():\n\u001b[1;32m   <a href='file:///opt/homebrew/Caskroom/miniforge/base/lib/python3.9/site-packages/matplotlib/transforms.py?line=1370'>1371</a>\u001b[0m     \u001b[39mif\u001b[39;00m sub_tree \u001b[39m==\u001b[39m other:\n\u001b[1;32m   <a href='file:///opt/homebrew/Caskroom/miniforge/base/lib/python3.9/site-packages/matplotlib/transforms.py?line=1371'>1372</a>\u001b[0m         \u001b[39mreturn\u001b[39;00m \u001b[39mTrue\u001b[39;00m\n",
      "File \u001b[0;32m/opt/homebrew/Caskroom/miniforge/base/lib/python3.9/site-packages/matplotlib/transforms.py:2363\u001b[0m, in \u001b[0;36mCompositeGenericTransform._iter_break_from_left_to_right\u001b[0;34m(self)\u001b[0m\n\u001b[1;32m   <a href='file:///opt/homebrew/Caskroom/miniforge/base/lib/python3.9/site-packages/matplotlib/transforms.py?line=2361'>2362</a>\u001b[0m \u001b[39mdef\u001b[39;00m \u001b[39m_iter_break_from_left_to_right\u001b[39m(\u001b[39mself\u001b[39m):\n\u001b[0;32m-> <a href='file:///opt/homebrew/Caskroom/miniforge/base/lib/python3.9/site-packages/matplotlib/transforms.py?line=2362'>2363</a>\u001b[0m     \u001b[39mfor\u001b[39;00m left, right \u001b[39min\u001b[39;00m \u001b[39mself\u001b[39;49m\u001b[39m.\u001b[39;49m_a\u001b[39m.\u001b[39;49m_iter_break_from_left_to_right():\n\u001b[1;32m   <a href='file:///opt/homebrew/Caskroom/miniforge/base/lib/python3.9/site-packages/matplotlib/transforms.py?line=2363'>2364</a>\u001b[0m         \u001b[39myield\u001b[39;00m left, right \u001b[39m+\u001b[39m \u001b[39mself\u001b[39m\u001b[39m.\u001b[39m_b\n\u001b[1;32m   <a href='file:///opt/homebrew/Caskroom/miniforge/base/lib/python3.9/site-packages/matplotlib/transforms.py?line=2364'>2365</a>\u001b[0m     \u001b[39mfor\u001b[39;00m left, right \u001b[39min\u001b[39;00m \u001b[39mself\u001b[39m\u001b[39m.\u001b[39m_b\u001b[39m.\u001b[39m_iter_break_from_left_to_right():\n",
      "\u001b[0;31mKeyboardInterrupt\u001b[0m: "
     ]
    },
    {
     "data": {
      "image/png": "[encoded data removed]",
      "text/plain": [
       "<Figure size 432x288 with 1 Axes>"
      ]
     },
     "metadata": {
      "needs_background": "light"
     },
     "output_type": "display_data"
    }
   ],
   "source": [
    "plt.figure()\n",
    "plt.hist(z, bins=\"auto\")\n",
    "plt.show()"
   ]
  },
  {
   "cell_type": "code",
   "execution_count": null,
   "metadata": {},
   "outputs": [],
   "source": []
  },
  {
   "cell_type": "code",
   "execution_count": null,
   "metadata": {},
   "outputs": [],
   "source": []
  }
 ],
 "metadata": {
  "interpreter": {
   "hash": "2ac3d5d3a4336f34c662130573d1ea696fb4dfcbf6baf7c9925b84262e1f6ae2"
  },
  "kernelspec": {
   "display_name": "Python 3.9.6 64-bit ('base')",
   "language": "python",
   "name": "python3"
  },
  "language_info": {
   "codemirror_mode": {
    "name": "ipython",
    "version": 3
   },
   "file_extension": ".py",
   "mimetype": "text/x-python",
   "name": "python",
   "nbconvert_exporter": "python",
   "pygments_lexer": "ipython3",
   "version": "3.9.6"
  },
  "orig_nbformat": 4
 },
 "nbformat": 4,
 "nbformat_minor": 2
}
